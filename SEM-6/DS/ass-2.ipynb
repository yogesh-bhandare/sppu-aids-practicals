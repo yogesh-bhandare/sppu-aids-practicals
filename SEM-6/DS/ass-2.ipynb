{
 "cells": [
  {
   "cell_type": "markdown",
   "id": "94887e53",
   "metadata": {},
   "source": [
    "### Assignment 2"
   ]
  },
  {
   "cell_type": "markdown",
   "id": "b86c434c",
   "metadata": {},
   "source": [
    "Data Wrangling II Create an “Academic performance” dataset of students and perform the following operations using Python. transformation should be one of the following reasons: to change the scale for better\n",
    "\n",
    "- Scan all variables for missing values and inconsistencies. If there are missing values and/or inconsistencies, use any of the suitable techniques to deal with them.\n",
    "- Scan all numeric variables for outliers. If there are outliers, use any of the suitable techniques to deal with them.\n",
    "    Apply data transformations on at least one of the variables. The purpose of this\n",
    "\n",
    "understanding of the variable, to convert a non-linear relation into a linear one, or to decrease the skewness and convert the distribution into a normal distribution. Reason and document your approach properly."
   ]
  },
  {
   "cell_type": "code",
   "execution_count": 1,
   "id": "918155fe-8897-4e03-b8c7-d04f278b6069",
   "metadata": {},
   "outputs": [],
   "source": [
    "import pandas as pd\n",
    "import numpy as np\n",
    "from pathlib import Path"
   ]
  },
  {
   "cell_type": "code",
   "execution_count": 2,
   "id": "bbe6e8c1",
   "metadata": {},
   "outputs": [],
   "source": [
    "BASE_DIR = Path().resolve().parent\n",
    "DATASET_PATH = BASE_DIR / 'DS' / 'datasets' / 'iris.csv'"
   ]
  },
  {
   "cell_type": "code",
   "execution_count": 3,
   "id": "9cbf3eb5",
   "metadata": {},
   "outputs": [],
   "source": [
    "data = {\n",
    "    'Student_ID': [1, 2, 3, 4, 5],\n",
    "    'Name': ['Katrina', 'Yogesh', 'Rajat', 'Atharv', 'Samantha'],\n",
    "    'Age': [20, 21, np.nan, 22, 23],\n",
    "    'Gender': ['F', 'M', 'M', 'M', 'F'],\n",
    "    'OS_Score': [85, 90, 78, np.nan, 92],  \n",
    "    'OOP_Score': [88, np.nan, 80, 85, 90],  \n",
    "    'CN_Score': [82, 85, 88, 90, 95],  \n",
    "    'ANN_Score': [75, 80, 85, np.nan, 88]  \n",
    "}"
   ]
  },
  {
   "cell_type": "code",
   "execution_count": 4,
   "id": "212a330b",
   "metadata": {},
   "outputs": [],
   "source": [
    "df = pd.DataFrame(data)"
   ]
  },
  {
   "cell_type": "code",
   "execution_count": 5,
   "id": "2a8a48b5",
   "metadata": {},
   "outputs": [
    {
     "data": {
      "text/html": [
       "<div>\n",
       "<style scoped>\n",
       "    .dataframe tbody tr th:only-of-type {\n",
       "        vertical-align: middle;\n",
       "    }\n",
       "\n",
       "    .dataframe tbody tr th {\n",
       "        vertical-align: top;\n",
       "    }\n",
       "\n",
       "    .dataframe thead th {\n",
       "        text-align: right;\n",
       "    }\n",
       "</style>\n",
       "<table border=\"1\" class=\"dataframe\">\n",
       "  <thead>\n",
       "    <tr style=\"text-align: right;\">\n",
       "      <th></th>\n",
       "      <th>Student_ID</th>\n",
       "      <th>Name</th>\n",
       "      <th>Age</th>\n",
       "      <th>Gender</th>\n",
       "      <th>OS_Score</th>\n",
       "      <th>OOP_Score</th>\n",
       "      <th>CN_Score</th>\n",
       "      <th>ANN_Score</th>\n",
       "    </tr>\n",
       "  </thead>\n",
       "  <tbody>\n",
       "    <tr>\n",
       "      <th>0</th>\n",
       "      <td>1</td>\n",
       "      <td>Katrina</td>\n",
       "      <td>20.0</td>\n",
       "      <td>F</td>\n",
       "      <td>85.0</td>\n",
       "      <td>88.0</td>\n",
       "      <td>82</td>\n",
       "      <td>75.0</td>\n",
       "    </tr>\n",
       "    <tr>\n",
       "      <th>1</th>\n",
       "      <td>2</td>\n",
       "      <td>Yogesh</td>\n",
       "      <td>21.0</td>\n",
       "      <td>M</td>\n",
       "      <td>90.0</td>\n",
       "      <td>NaN</td>\n",
       "      <td>85</td>\n",
       "      <td>80.0</td>\n",
       "    </tr>\n",
       "    <tr>\n",
       "      <th>2</th>\n",
       "      <td>3</td>\n",
       "      <td>Rajat</td>\n",
       "      <td>NaN</td>\n",
       "      <td>M</td>\n",
       "      <td>78.0</td>\n",
       "      <td>80.0</td>\n",
       "      <td>88</td>\n",
       "      <td>85.0</td>\n",
       "    </tr>\n",
       "    <tr>\n",
       "      <th>3</th>\n",
       "      <td>4</td>\n",
       "      <td>Atharv</td>\n",
       "      <td>22.0</td>\n",
       "      <td>M</td>\n",
       "      <td>NaN</td>\n",
       "      <td>85.0</td>\n",
       "      <td>90</td>\n",
       "      <td>NaN</td>\n",
       "    </tr>\n",
       "    <tr>\n",
       "      <th>4</th>\n",
       "      <td>5</td>\n",
       "      <td>Samantha</td>\n",
       "      <td>23.0</td>\n",
       "      <td>F</td>\n",
       "      <td>92.0</td>\n",
       "      <td>90.0</td>\n",
       "      <td>95</td>\n",
       "      <td>88.0</td>\n",
       "    </tr>\n",
       "  </tbody>\n",
       "</table>\n",
       "</div>"
      ],
      "text/plain": [
       "   Student_ID      Name   Age Gender  OS_Score  OOP_Score  CN_Score  ANN_Score\n",
       "0           1   Katrina  20.0      F      85.0       88.0        82       75.0\n",
       "1           2    Yogesh  21.0      M      90.0        NaN        85       80.0\n",
       "2           3     Rajat   NaN      M      78.0       80.0        88       85.0\n",
       "3           4    Atharv  22.0      M       NaN       85.0        90        NaN\n",
       "4           5  Samantha  23.0      F      92.0       90.0        95       88.0"
      ]
     },
     "execution_count": 5,
     "metadata": {},
     "output_type": "execute_result"
    }
   ],
   "source": [
    "df"
   ]
  },
  {
   "cell_type": "code",
   "execution_count": 6,
   "id": "a891886d",
   "metadata": {},
   "outputs": [
    {
     "data": {
      "text/plain": [
       "Student_ID    0\n",
       "Name          0\n",
       "Age           1\n",
       "Gender        0\n",
       "OS_Score      1\n",
       "OOP_Score     1\n",
       "CN_Score      0\n",
       "ANN_Score     1\n",
       "dtype: int64"
      ]
     },
     "execution_count": 6,
     "metadata": {},
     "output_type": "execute_result"
    }
   ],
   "source": [
    "df.isnull().sum()"
   ]
  },
  {
   "cell_type": "code",
   "execution_count": 7,
   "id": "b0a83093",
   "metadata": {},
   "outputs": [],
   "source": [
    "# df.dropna()"
   ]
  },
  {
   "cell_type": "code",
   "execution_count": 8,
   "id": "5fc31a60",
   "metadata": {},
   "outputs": [],
   "source": [
    "df['Age'] = df['Age'].fillna(df['Age'].mean())\n",
    "df['OS_Score'] = df['OS_Score'].fillna(df['OS_Score'].mean())\n",
    "df['OOP_Score'] = df['OOP_Score'].fillna(df['OOP_Score'].mean())\n",
    "df['ANN_Score'] = df['ANN_Score'].fillna(df['ANN_Score'].mean())"
   ]
  },
  {
   "cell_type": "code",
   "execution_count": 9,
   "id": "a585cf24",
   "metadata": {},
   "outputs": [
    {
     "data": {
      "text/plain": [
       "Student_ID    0\n",
       "Name          0\n",
       "Age           0\n",
       "Gender        0\n",
       "OS_Score      0\n",
       "OOP_Score     0\n",
       "CN_Score      0\n",
       "ANN_Score     0\n",
       "dtype: int64"
      ]
     },
     "execution_count": 9,
     "metadata": {},
     "output_type": "execute_result"
    }
   ],
   "source": [
    "df.isnull().sum()"
   ]
  },
  {
   "cell_type": "code",
   "execution_count": 10,
   "id": "fefb5e8e",
   "metadata": {},
   "outputs": [],
   "source": [
    "# df.boxplot()"
   ]
  },
  {
   "cell_type": "code",
   "execution_count": 11,
   "id": "38696fb7",
   "metadata": {},
   "outputs": [
    {
     "data": {
      "text/plain": [
       "<Axes: >"
      ]
     },
     "execution_count": 11,
     "metadata": {},
     "output_type": "execute_result"
    },
    {
     "data": {
      "image/png": "[encoded data removed]",
      "text/plain": [
       "<Figure size 640x480 with 1 Axes>"
      ]
     },
     "metadata": {},
     "output_type": "display_data"
    }
   ],
   "source": [
    "df[\"OS_Score\"].hist()"
   ]
  },
  {
   "cell_type": "code",
   "execution_count": 12,
   "id": "e304bd4d",
   "metadata": {},
   "outputs": [
    {
     "data": {
      "text/html": [
       "<div>\n",
       "<style scoped>\n",
       "    .dataframe tbody tr th:only-of-type {\n",
       "        vertical-align: middle;\n",
       "    }\n",
       "\n",
       "    .dataframe tbody tr th {\n",
       "        vertical-align: top;\n",
       "    }\n",
       "\n",
       "    .dataframe thead th {\n",
       "        text-align: right;\n",
       "    }\n",
       "</style>\n",
       "<table border=\"1\" class=\"dataframe\">\n",
       "  <thead>\n",
       "    <tr style=\"text-align: right;\">\n",
       "      <th></th>\n",
       "      <th>Student_ID</th>\n",
       "      <th>Name</th>\n",
       "      <th>Age</th>\n",
       "      <th>Gender</th>\n",
       "      <th>OS_Score</th>\n",
       "      <th>OOP_Score</th>\n",
       "      <th>CN_Score</th>\n",
       "      <th>ANN_Score</th>\n",
       "    </tr>\n",
       "  </thead>\n",
       "  <tbody>\n",
       "    <tr>\n",
       "      <th>0</th>\n",
       "      <td>1</td>\n",
       "      <td>Katrina</td>\n",
       "      <td>20.0</td>\n",
       "      <td>F</td>\n",
       "      <td>85.00</td>\n",
       "      <td>88.00</td>\n",
       "      <td>82</td>\n",
       "      <td>75.0</td>\n",
       "    </tr>\n",
       "    <tr>\n",
       "      <th>1</th>\n",
       "      <td>2</td>\n",
       "      <td>Yogesh</td>\n",
       "      <td>21.0</td>\n",
       "      <td>M</td>\n",
       "      <td>90.00</td>\n",
       "      <td>85.75</td>\n",
       "      <td>85</td>\n",
       "      <td>80.0</td>\n",
       "    </tr>\n",
       "    <tr>\n",
       "      <th>2</th>\n",
       "      <td>3</td>\n",
       "      <td>Rajat</td>\n",
       "      <td>21.5</td>\n",
       "      <td>M</td>\n",
       "      <td>78.00</td>\n",
       "      <td>80.00</td>\n",
       "      <td>88</td>\n",
       "      <td>85.0</td>\n",
       "    </tr>\n",
       "    <tr>\n",
       "      <th>3</th>\n",
       "      <td>4</td>\n",
       "      <td>Atharv</td>\n",
       "      <td>22.0</td>\n",
       "      <td>M</td>\n",
       "      <td>86.25</td>\n",
       "      <td>85.00</td>\n",
       "      <td>90</td>\n",
       "      <td>82.0</td>\n",
       "    </tr>\n",
       "    <tr>\n",
       "      <th>4</th>\n",
       "      <td>5</td>\n",
       "      <td>Samantha</td>\n",
       "      <td>23.0</td>\n",
       "      <td>F</td>\n",
       "      <td>92.00</td>\n",
       "      <td>90.00</td>\n",
       "      <td>95</td>\n",
       "      <td>88.0</td>\n",
       "    </tr>\n",
       "  </tbody>\n",
       "</table>\n",
       "</div>"
      ],
      "text/plain": [
       "   Student_ID      Name   Age Gender  OS_Score  OOP_Score  CN_Score  ANN_Score\n",
       "0           1   Katrina  20.0      F     85.00      88.00        82       75.0\n",
       "1           2    Yogesh  21.0      M     90.00      85.75        85       80.0\n",
       "2           3     Rajat  21.5      M     78.00      80.00        88       85.0\n",
       "3           4    Atharv  22.0      M     86.25      85.00        90       82.0\n",
       "4           5  Samantha  23.0      F     92.00      90.00        95       88.0"
      ]
     },
     "execution_count": 12,
     "metadata": {},
     "output_type": "execute_result"
    }
   ],
   "source": [
    "newdf = df[df[\"OS_Score\"] > 30]\n",
    "newdf"
   ]
  },
  {
   "cell_type": "code",
   "execution_count": 13,
   "id": "c43dee48",
   "metadata": {},
   "outputs": [],
   "source": [
    "def detect_outliers(column):\n",
    "    Q1 = column.quantile(0.25)\n",
    "    Q3 = column.quantile(0.75)\n",
    "    IQR = Q3 - Q1\n",
    "    lower_bound = Q1 - 1.5 * IQR\n",
    "    upper_bound = Q3 + 1.5 * IQR\n",
    "    return column[(column < lower_bound) | (column > upper_bound)]"
   ]
  },
  {
   "cell_type": "code",
   "execution_count": 14,
   "id": "c3c02136",
   "metadata": {},
   "outputs": [
    {
     "name": "stdout",
     "output_type": "stream",
     "text": [
      "Outliers in OS_Score: Series([], Name: OS_Score, dtype: float64)\n",
      "Outliers in OOP_Score: 2    80.0\n",
      "Name: OOP_Score, dtype: float64\n",
      "Outliers in CN_Score: Series([], Name: CN_Score, dtype: int64)\n",
      "Outliers in ANN_Score: Series([], Name: ANN_Score, dtype: float64)\n"
     ]
    }
   ],
   "source": [
    "print(\"Outliers in OS_Score:\", detect_outliers(df['OS_Score']))\n",
    "print(\"Outliers in OOP_Score:\", detect_outliers(df['OOP_Score']))\n",
    "print(\"Outliers in CN_Score:\", detect_outliers(df['CN_Score']))\n",
    "print(\"Outliers in ANN_Score:\", detect_outliers(df['ANN_Score']))"
   ]
  },
  {
   "cell_type": "code",
   "execution_count": 15,
   "id": "11f5f891",
   "metadata": {},
   "outputs": [],
   "source": [
    "def cap_outliers(column):\n",
    "    Q1 = column.quantile(0.25)\n",
    "    Q3 = column.quantile(0.75)\n",
    "    IQR = Q3 - Q1\n",
    "    lower_bound = Q1 - 1.5 * IQR\n",
    "    upper_bound = Q3 + 1.5 * IQR\n",
    "    return column.clip(lower_bound, upper_bound)"
   ]
  },
  {
   "cell_type": "code",
   "execution_count": 16,
   "id": "e89072e3",
   "metadata": {},
   "outputs": [],
   "source": [
    "\n",
    "df['OS_Score'] = cap_outliers(df['OS_Score'])\n",
    "df['OOP_Score'] = cap_outliers(df['OOP_Score'])\n",
    "df['CN_Score'] = cap_outliers(df['CN_Score'])\n",
    "df['ANN_Score'] = cap_outliers(df['ANN_Score'])"
   ]
  },
  {
   "cell_type": "code",
   "execution_count": 17,
   "id": "0434499b",
   "metadata": {},
   "outputs": [
    {
     "data": {
      "text/html": [
       "<div>\n",
       "<style scoped>\n",
       "    .dataframe tbody tr th:only-of-type {\n",
       "        vertical-align: middle;\n",
       "    }\n",
       "\n",
       "    .dataframe tbody tr th {\n",
       "        vertical-align: top;\n",
       "    }\n",
       "\n",
       "    .dataframe thead th {\n",
       "        text-align: right;\n",
       "    }\n",
       "</style>\n",
       "<table border=\"1\" class=\"dataframe\">\n",
       "  <thead>\n",
       "    <tr style=\"text-align: right;\">\n",
       "      <th></th>\n",
       "      <th>OS_Score</th>\n",
       "      <th>OS_Score_Log</th>\n",
       "    </tr>\n",
       "  </thead>\n",
       "  <tbody>\n",
       "    <tr>\n",
       "      <th>0</th>\n",
       "      <td>85.00</td>\n",
       "      <td>4.454347</td>\n",
       "    </tr>\n",
       "    <tr>\n",
       "      <th>1</th>\n",
       "      <td>90.00</td>\n",
       "      <td>4.510860</td>\n",
       "    </tr>\n",
       "    <tr>\n",
       "      <th>2</th>\n",
       "      <td>78.00</td>\n",
       "      <td>4.369448</td>\n",
       "    </tr>\n",
       "    <tr>\n",
       "      <th>3</th>\n",
       "      <td>86.25</td>\n",
       "      <td>4.468778</td>\n",
       "    </tr>\n",
       "    <tr>\n",
       "      <th>4</th>\n",
       "      <td>92.00</td>\n",
       "      <td>4.532599</td>\n",
       "    </tr>\n",
       "  </tbody>\n",
       "</table>\n",
       "</div>"
      ],
      "text/plain": [
       "   OS_Score  OS_Score_Log\n",
       "0     85.00      4.454347\n",
       "1     90.00      4.510860\n",
       "2     78.00      4.369448\n",
       "3     86.25      4.468778\n",
       "4     92.00      4.532599"
      ]
     },
     "execution_count": 17,
     "metadata": {},
     "output_type": "execute_result"
    }
   ],
   "source": [
    "df['OS_Score_Log'] = np.log(df['OS_Score'] + 1)  \n",
    "df[['OS_Score', 'OS_Score_Log']]"
   ]
  },
  {
   "cell_type": "code",
   "execution_count": 18,
   "id": "f7f061e0",
   "metadata": {},
   "outputs": [
    {
     "data": {
      "text/html": [
       "<div>\n",
       "<style scoped>\n",
       "    .dataframe tbody tr th:only-of-type {\n",
       "        vertical-align: middle;\n",
       "    }\n",
       "\n",
       "    .dataframe tbody tr th {\n",
       "        vertical-align: top;\n",
       "    }\n",
       "\n",
       "    .dataframe thead th {\n",
       "        text-align: right;\n",
       "    }\n",
       "</style>\n",
       "<table border=\"1\" class=\"dataframe\">\n",
       "  <thead>\n",
       "    <tr style=\"text-align: right;\">\n",
       "      <th></th>\n",
       "      <th>CN_Score</th>\n",
       "      <th>CN_Score_Normalized</th>\n",
       "    </tr>\n",
       "  </thead>\n",
       "  <tbody>\n",
       "    <tr>\n",
       "      <th>0</th>\n",
       "      <td>82</td>\n",
       "      <td>0.000000</td>\n",
       "    </tr>\n",
       "    <tr>\n",
       "      <th>1</th>\n",
       "      <td>85</td>\n",
       "      <td>0.230769</td>\n",
       "    </tr>\n",
       "    <tr>\n",
       "      <th>2</th>\n",
       "      <td>88</td>\n",
       "      <td>0.461538</td>\n",
       "    </tr>\n",
       "    <tr>\n",
       "      <th>3</th>\n",
       "      <td>90</td>\n",
       "      <td>0.615385</td>\n",
       "    </tr>\n",
       "    <tr>\n",
       "      <th>4</th>\n",
       "      <td>95</td>\n",
       "      <td>1.000000</td>\n",
       "    </tr>\n",
       "  </tbody>\n",
       "</table>\n",
       "</div>"
      ],
      "text/plain": [
       "   CN_Score  CN_Score_Normalized\n",
       "0        82             0.000000\n",
       "1        85             0.230769\n",
       "2        88             0.461538\n",
       "3        90             0.615385\n",
       "4        95             1.000000"
      ]
     },
     "execution_count": 18,
     "metadata": {},
     "output_type": "execute_result"
    }
   ],
   "source": [
    "df['CN_Score_Normalized'] = (df['CN_Score'] - df['CN_Score'].min()) / (df['CN_Score'].max() - df['CN_Score'].min())\n",
    "df[['CN_Score', 'CN_Score_Normalized']]"
   ]
  },
  {
   "cell_type": "code",
   "execution_count": 19,
   "id": "11dc5484",
   "metadata": {},
   "outputs": [
    {
     "data": {
      "text/html": [
       "<div>\n",
       "<style scoped>\n",
       "    .dataframe tbody tr th:only-of-type {\n",
       "        vertical-align: middle;\n",
       "    }\n",
       "\n",
       "    .dataframe tbody tr th {\n",
       "        vertical-align: top;\n",
       "    }\n",
       "\n",
       "    .dataframe thead th {\n",
       "        text-align: right;\n",
       "    }\n",
       "</style>\n",
       "<table border=\"1\" class=\"dataframe\">\n",
       "  <thead>\n",
       "    <tr style=\"text-align: right;\">\n",
       "      <th></th>\n",
       "      <th>Student_ID</th>\n",
       "      <th>Name</th>\n",
       "      <th>Age</th>\n",
       "      <th>Gender</th>\n",
       "      <th>OS_Score</th>\n",
       "      <th>OOP_Score</th>\n",
       "      <th>CN_Score</th>\n",
       "      <th>ANN_Score</th>\n",
       "      <th>OS_Score_Log</th>\n",
       "      <th>CN_Score_Normalized</th>\n",
       "    </tr>\n",
       "  </thead>\n",
       "  <tbody>\n",
       "    <tr>\n",
       "      <th>0</th>\n",
       "      <td>1</td>\n",
       "      <td>Katrina</td>\n",
       "      <td>20.0</td>\n",
       "      <td>F</td>\n",
       "      <td>85.00</td>\n",
       "      <td>88.00</td>\n",
       "      <td>82</td>\n",
       "      <td>75.0</td>\n",
       "      <td>4.454347</td>\n",
       "      <td>0.000000</td>\n",
       "    </tr>\n",
       "    <tr>\n",
       "      <th>1</th>\n",
       "      <td>2</td>\n",
       "      <td>Yogesh</td>\n",
       "      <td>21.0</td>\n",
       "      <td>M</td>\n",
       "      <td>90.00</td>\n",
       "      <td>85.75</td>\n",
       "      <td>85</td>\n",
       "      <td>80.0</td>\n",
       "      <td>4.510860</td>\n",
       "      <td>0.230769</td>\n",
       "    </tr>\n",
       "    <tr>\n",
       "      <th>2</th>\n",
       "      <td>3</td>\n",
       "      <td>Rajat</td>\n",
       "      <td>21.5</td>\n",
       "      <td>M</td>\n",
       "      <td>78.00</td>\n",
       "      <td>80.50</td>\n",
       "      <td>88</td>\n",
       "      <td>85.0</td>\n",
       "      <td>4.369448</td>\n",
       "      <td>0.461538</td>\n",
       "    </tr>\n",
       "    <tr>\n",
       "      <th>3</th>\n",
       "      <td>4</td>\n",
       "      <td>Atharv</td>\n",
       "      <td>22.0</td>\n",
       "      <td>M</td>\n",
       "      <td>86.25</td>\n",
       "      <td>85.00</td>\n",
       "      <td>90</td>\n",
       "      <td>82.0</td>\n",
       "      <td>4.468778</td>\n",
       "      <td>0.615385</td>\n",
       "    </tr>\n",
       "    <tr>\n",
       "      <th>4</th>\n",
       "      <td>5</td>\n",
       "      <td>Samantha</td>\n",
       "      <td>23.0</td>\n",
       "      <td>F</td>\n",
       "      <td>92.00</td>\n",
       "      <td>90.00</td>\n",
       "      <td>95</td>\n",
       "      <td>88.0</td>\n",
       "      <td>4.532599</td>\n",
       "      <td>1.000000</td>\n",
       "    </tr>\n",
       "  </tbody>\n",
       "</table>\n",
       "</div>"
      ],
      "text/plain": [
       "   Student_ID      Name   Age Gender  OS_Score  OOP_Score  CN_Score  \\\n",
       "0           1   Katrina  20.0      F     85.00      88.00        82   \n",
       "1           2    Yogesh  21.0      M     90.00      85.75        85   \n",
       "2           3     Rajat  21.5      M     78.00      80.50        88   \n",
       "3           4    Atharv  22.0      M     86.25      85.00        90   \n",
       "4           5  Samantha  23.0      F     92.00      90.00        95   \n",
       "\n",
       "   ANN_Score  OS_Score_Log  CN_Score_Normalized  \n",
       "0       75.0      4.454347             0.000000  \n",
       "1       80.0      4.510860             0.230769  \n",
       "2       85.0      4.369448             0.461538  \n",
       "3       82.0      4.468778             0.615385  \n",
       "4       88.0      4.532599             1.000000  "
      ]
     },
     "execution_count": 19,
     "metadata": {},
     "output_type": "execute_result"
    }
   ],
   "source": [
    "df"
   ]
  },
  {
   "cell_type": "code",
   "execution_count": null,
   "id": "060a097b",
   "metadata": {},
   "outputs": [],
   "source": []
  }
 ],
 "metadata": {
  "kernelspec": {
   "display_name": ".venv",
   "language": "python",
   "name": "python3"
  },
  "language_info": {
   "codemirror_mode": {
    "name": "ipython",
    "version": 3
   },
   "file_extension": ".py",
   "mimetype": "text/x-python",
   "name": "python",
   "nbconvert_exporter": "python",
   "pygments_lexer": "ipython3",
   "version": "3.13.3"
  }
 },
 "nbformat": 4,
 "nbformat_minor": 5
}
