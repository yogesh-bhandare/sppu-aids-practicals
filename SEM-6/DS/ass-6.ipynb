{
  "cells": [
    {
      "cell_type": "markdown",
      "metadata": {},
      "source": [
        "6) Data Analytics III\n",
        "1. Implement Simple Naïve Bayes classification algorithm using Python/R on iris.csv dataset.\n",
        "2. Compute Confusion matrix to find TP, FP, TN, FN, Accuracy, Error rate, Precision, Recall on\n",
        "the given dataset."
      ]
    },
    {
      "cell_type": "code",
      "execution_count": 1,
      "metadata": {
        "id": "I1l5_aGvEJnv"
      },
      "outputs": [],
      "source": [
        "import pandas as pd\n",
        "from sklearn.model_selection import train_test_split\n",
        "from sklearn.naive_bayes import GaussianNB\n",
        "from sklearn.metrics import confusion_matrix, accuracy_score, precision_score, recall_score\n",
        "from sklearn.preprocessing import LabelEncoder\n",
        "from pathlib import Path"
      ]
    },
    {
      "cell_type": "code",
      "execution_count": 2,
      "metadata": {
        "id": "k-bpn3lhERJt"
      },
      "outputs": [],
      "source": [
        "# Load the dataset\n",
        "BASE_DIR = Path().resolve().parent\n",
        "DATASET_PATH = BASE_DIR / 'DS' / 'datasets' / 'Iris.csv'\n",
        "iris_data = pd.read_csv(str(DATASET_PATH))"
      ]
    },
    {
      "cell_type": "code",
      "execution_count": 3,
      "metadata": {
        "id": "2T7cOe2ZFryp"
      },
      "outputs": [],
      "source": [
        "# Drop the Id column as it's not needed\n",
        "iris_data = iris_data.drop('Id', axis=1)"
      ]
    },
    {
      "cell_type": "code",
      "execution_count": 4,
      "metadata": {
        "id": "TPnMZ8WGFyHg"
      },
      "outputs": [],
      "source": [
        "# Encode the species labels\n",
        "label_encoder = LabelEncoder()\n",
        "iris_data['Species'] = label_encoder.fit_transform(iris_data['Species'])"
      ]
    },
    {
      "cell_type": "code",
      "execution_count": 5,
      "metadata": {
        "id": "tN3MorhTF_Ki"
      },
      "outputs": [],
      "source": [
        "# Split the data into features (X) and target (y)\n",
        "X = iris_data.drop('Species', axis=1)\n",
        "y = iris_data['Species']\n",
        "\n",
        "# Split the data into training and testing sets (80% train, 20% test)\n",
        "X_train, X_test, y_train, y_test = train_test_split(X, y, test_size=0.2, random_state=42)"
      ]
    },
    {
      "cell_type": "code",
      "execution_count": 6,
      "metadata": {
        "id": "mUbuPYuWGDih"
      },
      "outputs": [],
      "source": [
        "# Initialize the Gaussian Naïve Bayes classifier\n",
        "nb_classifier = GaussianNB()\n",
        "\n",
        "# Train the classifier\n",
        "nb_classifier.fit(X_train, y_train)\n",
        "\n",
        "# Make predictions on the test set\n",
        "y_pred = nb_classifier.predict(X_test)"
      ]
    },
    {
      "cell_type": "code",
      "execution_count": 7,
      "metadata": {
        "colab": {
          "base_uri": "https://localhost:8080/"
        },
        "id": "3KJ_HvNEGGjn",
        "outputId": "bca58aef-76fd-4eaf-bb1f-c3696d399ee4"
      },
      "outputs": [
        {
          "name": "stdout",
          "output_type": "stream",
          "text": [
            "Confusion Matrix:\n",
            "[[10  0  0]\n",
            " [ 0  9  0]\n",
            " [ 0  0 11]]\n"
          ]
        }
      ],
      "source": [
        "# Compute the confusion matrix\n",
        "cm = confusion_matrix(y_test, y_pred)\n",
        "print(\"Confusion Matrix:\")\n",
        "print(cm)\n",
        "\n",
        "# Calculate metrics\n",
        "accuracy = accuracy_score(y_test, y_pred)\n",
        "error_rate = 1 - accuracy\n",
        "\n",
        "# For multi-class, we need to specify average method\n",
        "precision = precision_score(y_test, y_pred, average='weighted')\n",
        "recall = recall_score(y_test, y_pred, average='weighted')"
      ]
    },
    {
      "cell_type": "code",
      "execution_count": 8,
      "metadata": {
        "colab": {
          "base_uri": "https://localhost:8080/"
        },
        "id": "xy2W_g8dGJHs",
        "outputId": "901f090c-302b-4cb4-da13-73bd46a7467e"
      },
      "outputs": [
        {
          "name": "stdout",
          "output_type": "stream",
          "text": [
            "\n",
            "Metrics:\n",
            "Accuracy: 1.0000\n",
            "Error Rate: 0.0000\n",
            "Precision: 1.0000\n",
            "Recall: 1.0000\n"
          ]
        }
      ],
      "source": [
        "print(\"\\nMetrics:\")\n",
        "print(f\"Accuracy: {accuracy:.4f}\")\n",
        "print(f\"Error Rate: {error_rate:.4f}\")\n",
        "print(f\"Precision: {precision:.4f}\")\n",
        "print(f\"Recall: {recall:.4f}\")"
      ]
    },
    {
      "cell_type": "code",
      "execution_count": 9,
      "metadata": {
        "colab": {
          "base_uri": "https://localhost:8080/"
        },
        "id": "AClJMShrGWxp",
        "outputId": "f93cb6a3-f26d-45bd-f1c1-1afb8455524a"
      },
      "outputs": [
        {
          "name": "stdout",
          "output_type": "stream",
          "text": [
            "\n",
            "For class 0 (Setosa):\n",
            "True Positives (TP): 10\n",
            "False Positives (FP): 0\n",
            "True Negatives (TN): 20\n",
            "False Negatives (FN): 0\n"
          ]
        }
      ],
      "source": [
        "# For binary classification metrics (if we focus on one class vs rest)\n",
        "# Let's demonstrate for class 0 (setosa)\n",
        "tn = cm[1:, 1:].sum()  # True negatives for class 0\n",
        "fp = cm[0, 1:].sum()    # False positives for class 0\n",
        "fn = cm[1:, 0].sum()    # False negatives for class 0\n",
        "tp = cm[0, 0]           # True positives for class 0\n",
        "\n",
        "print(\"\\nFor class 0 (Setosa):\")\n",
        "print(f\"True Positives (TP): {tp}\")\n",
        "print(f\"False Positives (FP): {fp}\")\n",
        "print(f\"True Negatives (TN): {tn}\")\n",
        "print(f\"False Negatives (FN): {fn}\")"
      ]
    },
    {
      "cell_type": "code",
      "execution_count": 10,
      "metadata": {
        "colab": {
          "base_uri": "https://localhost:8080/"
        },
        "id": "5ohw-0-4GdN4",
        "outputId": "6c45c65f-03fe-4122-fb91-bffd80b69de3"
      },
      "outputs": [
        {
          "name": "stdout",
          "output_type": "stream",
          "text": [
            "Binary Accuracy: 1.0000\n",
            "Binary Precision: 1.0000\n",
            "Binary Recall: 1.0000\n"
          ]
        }
      ],
      "source": [
        "# Calculate binary metrics for class 0\n",
        "binary_accuracy = (tp + tn) / (tp + tn + fp + fn)\n",
        "binary_precision = tp / (tp + fp) if (tp + fp) != 0 else 0\n",
        "binary_recall = tp / (tp + fn) if (tp + fn) != 0 else 0\n",
        "\n",
        "print(f\"Binary Accuracy: {binary_accuracy:.4f}\")\n",
        "print(f\"Binary Precision: {binary_precision:.4f}\")\n",
        "print(f\"Binary Recall: {binary_recall:.4f}\")"
      ]
    }
  ],
  "metadata": {
    "colab": {
      "provenance": []
    },
    "kernelspec": {
      "display_name": ".venv",
      "language": "python",
      "name": "python3"
    },
    "language_info": {
      "codemirror_mode": {
        "name": "ipython",
        "version": 3
      },
      "file_extension": ".py",
      "mimetype": "text/x-python",
      "name": "python",
      "nbconvert_exporter": "python",
      "pygments_lexer": "ipython3",
      "version": "3.13.3"
    }
  },
  "nbformat": 4,
  "nbformat_minor": 0
}
